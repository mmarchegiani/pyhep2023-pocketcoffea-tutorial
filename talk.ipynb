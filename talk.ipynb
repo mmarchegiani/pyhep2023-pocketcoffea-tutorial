{
 "cells": [
  {
   "cell_type": "markdown",
   "id": "546d8add-1b5e-4fa8-96f9-cbbde212606b",
   "metadata": {},
   "source": [
    "# PocketCoffea: a configuration layer for CMS analysis with Coffea"
   ]
  },
  {
   "cell_type": "code",
   "execution_count": 1,
   "id": "940eb7e2-78ca-4fbb-9d43-0a424fba7798",
   "metadata": {},
   "outputs": [],
   "source": [
    "import pocket_coffea"
   ]
  },
  {
   "cell_type": "markdown",
   "id": "d45c2eb0-17bd-4b8a-a6a7-865940989751",
   "metadata": {},
   "source": [
    "## Configuration"
   ]
  },
  {
   "cell_type": "code",
   "execution_count": null,
   "id": "9d9e95e1-9434-43f1-b8c5-11d19ba53c3b",
   "metadata": {},
   "outputs": [],
   "source": []
  }
 ],
 "metadata": {
  "kernelspec": {
   "display_name": "Python 3 (ipykernel)",
   "language": "python",
   "name": "python3"
  },
  "language_info": {
   "codemirror_mode": {
    "name": "ipython",
    "version": 3
   },
   "file_extension": ".py",
   "mimetype": "text/x-python",
   "name": "python",
   "nbconvert_exporter": "python",
   "pygments_lexer": "ipython3",
   "version": "3.9.18"
  }
 },
 "nbformat": 4,
 "nbformat_minor": 5
}
