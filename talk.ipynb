{
 "cells": [
  {
   "cell_type": "markdown",
   "id": "546d8add-1b5e-4fa8-96f9-cbbde212606b",
   "metadata": {},
   "source": [
    "# PocketCoffea: a configuration layer for CMS analysis with Coffea"
   ]
  },
  {
   "cell_type": "code",
   "execution_count": 1,
   "id": "940eb7e2-78ca-4fbb-9d43-0a424fba7798",
   "metadata": {},
   "outputs": [
    {
     "name": "stdout",
     "output_type": "stream",
     "text": [
      "PocketCoffea version = 0.1.0\n",
      "# CPUs = 72\n"
     ]
    }
   ],
   "source": [
    "import os\n",
    "import pocket_coffea\n",
    "from pocket_coffea.utils.dataset import build_datasets\n",
    "from pocket_coffea.utils.run import FuturesRunner\n",
    "from pocket_coffea.utils.configurator import Configurator\n",
    "from pocket_coffea.workflows.tthbb_base_processor import ttHbbBaseProcessor\n",
    "from pocket_coffea.lib.cut_functions import get_nObj_min, get_HLTsel\n",
    "from pocket_coffea.parameters.cuts import passthrough\n",
    "from pocket_coffea.parameters.histograms import muon_hists\n",
    "print(f\"PocketCoffea version = {pocket_coffea.__version__}\")\n",
    "print(f\"# CPUs = {os.cpu_count()}\")"
   ]
  },
  {
   "cell_type": "markdown",
   "id": "d45c2eb0-17bd-4b8a-a6a7-865940989751",
   "metadata": {},
   "source": [
    "## Define parameters"
   ]
  },
  {
   "cell_type": "code",
   "execution_count": 9,
   "id": "53a099ef-3269-4b82-a84b-8a56b0db36fd",
   "metadata": {},
   "outputs": [
    {
     "name": "stdout",
     "output_type": "stream",
     "text": [
      "Saving config file to output/config.json\n"
     ]
    }
   ],
   "source": [
    "from pocket_coffea.parameters import defaults\n",
    "\n",
    "localdir = os.getcwd()\n",
    "default_parameters = defaults.get_default_parameters()\n",
    "parameters = defaults.merge_parameters_from_files(default_parameters,\n",
    "                                                  f\"{localdir}/params/object_preselection_semileptonic.yaml\",\n",
    "                                                  f\"{localdir}/params/triggers.yaml\",\n",
    "                                                  #f\"{localdir}/params/plotting_style.yaml\",\n",
    "                                                  update=True)\n",
    "\n",
    "cfg = Configurator(\n",
    "    parameters=parameters,\n",
    "    datasets = {\n",
    "        \"jsons\": [f\"{localdir}/datasets/backgrounds_MC_ttbar.json\",\n",
    "                  f\"{localdir}/datasets/DATA_SingleMuon.json\",\n",
    "                    ],\n",
    "        \"filter\" : {\n",
    "            \"samples\": [\"TTToSemiLeptonic\",\n",
    "                        \"TTTo2L2Nu\",\n",
    "                        \"DATA_SingleMuon\"],\n",
    "            \"samples_exclude\" : [],\n",
    "            \"year\": [\"2018\"]\n",
    "        },\n",
    "    },\n",
    "    workflow=ttHbbBaseProcessor,\n",
    "    skim = [get_nObj_min(3, 15., \"Jet\"),\n",
    "            get_HLTsel(primaryDatasets=[\"SingleMuon\"])],\n",
    "    preselections = [get_nObj_min(4, 30., \"Jet\")],\n",
    "    categories = {\n",
    "        \"inclusive\" : [passthrough],\n",
    "    },\n",
    "    weights = {\n",
    "        \"common\": {\n",
    "            \"inclusive\": [\"genWeight\",\"lumi\",\"XS\",\n",
    "                          \"pileup\",\n",
    "                          \"sf_ele_reco\", \"sf_ele_id\",\n",
    "                          \"sf_mu_id\",\"sf_mu_iso\",\n",
    "                          ],\n",
    "            \"bycategory\" : {\n",
    "            }\n",
    "        },\n",
    "        \"bysample\": {\n",
    "        }\n",
    "    },\n",
    "    variations = {\n",
    "        \"weights\": {\n",
    "            \"common\": {\n",
    "                \"inclusive\": [ \"pileup\" ],\n",
    "                \"bycategory\" : {\n",
    "                }\n",
    "            },\n",
    "            \"bysample\": {\n",
    "            }\n",
    "        },\n",
    "        \"shape\": {\n",
    "            \"common\":{\n",
    "                \"inclusive\": [ ]\n",
    "            }\n",
    "        }\n",
    "    },\n",
    "    variables = {\n",
    "        **muon_hists(coll=\"MuonGood\"),\n",
    "        **muon_hists(coll=\"MuonGood\", pos=0),\n",
    "    }\n",
    ")\n",
    "cfg.filter_dataset(nfiles=1)\n",
    "output_dir = \"output\"\n",
    "cfg.save_config(output_dir)"
   ]
  },
  {
   "cell_type": "code",
   "execution_count": 3,
   "id": "279b2c97-e5e9-44ca-9e38-5977de11c95d",
   "metadata": {},
   "outputs": [
    {
     "name": "stderr",
     "output_type": "stream",
     "text": [
      "cp: ‘/t3home/mmarcheg/.x509up_u718’ and ‘/t3home/mmarcheg/.x509up_u718’ are the same file\n"
     ]
    }
   ],
   "source": [
    "run_options = {\n",
    "    \"executor\"       : \"local\",\n",
    "    \"env\"            : \"conda\",\n",
    "    \"workers\"        : 1,\n",
    "    \"scaleout\"       : 32,\n",
    "    \"worker_image\"   : \"/cvmfs/unpacked.cern.ch/gitlab-registry.cern.ch/cms-analysis/general/pocketcoffea:lxplus-cc7-latest\",\n",
    "    \"queue\"          : \"standard\",\n",
    "    \"walltime\"       : \"02:00:00\",\n",
    "    \"mem_per_worker\" : \"4GB\", # GB\n",
    "    \"disk_per_worker\" : \"1GB\", # GB\n",
    "    \"exclusive\"      : False,\n",
    "    \"chunk\"          : 200000,\n",
    "    \"retries\"        : 50,\n",
    "    \"treereduction\"  : 20,\n",
    "    \"adapt\"          : False,   \n",
    "}\n",
    "runner = FuturesRunner(architecture=\"local\", run_options=run_options, output_dir=output_dir, loglevel=\"INFO\")"
   ]
  },
  {
   "cell_type": "code",
   "execution_count": 15,
   "id": "3e5e023e-ae19-4dbb-9810-9b0eee05c501",
   "metadata": {},
   "outputs": [],
   "source": [
    "filesets = {\n",
    "    \"DYJetsToLL_2012\": {\n",
    "        \"metadata\": {\n",
    "            \"sample\": \"DYJetsToLL\",\n",
    "            \"year\": \"2012\",\n",
    "            \"isMC\": \"True\",\n",
    "            \"xsec\": \"6077.22\",\n",
    "        },\n",
    "    \"files\": [f\"{localdir}/datasets/DYJetsToLL.root\"]\n",
    "    }\n",
    "}"
   ]
  },
  {
   "cell_type": "code",
   "execution_count": 5,
   "id": "ace7e810-43e1-4295-9b63-071b55f9842a",
   "metadata": {},
   "outputs": [
    {
     "data": {
      "application/vnd.jupyter.widget-view+json": {
       "model_id": "7a8e1017820948d5b913f799c68d0459",
       "version_major": 2,
       "version_minor": 0
      },
      "text/plain": [
       "Output()"
      ]
     },
     "metadata": {},
     "output_type": "display_data"
    },
    {
     "data": {
      "text/html": [
       "<pre style=\"white-space:pre;overflow-x:auto;line-height:normal;font-family:Menlo,'DejaVu Sans Mono',consolas,'Courier New',monospace\"></pre>\n"
      ],
      "text/plain": []
     },
     "metadata": {},
     "output_type": "display_data"
    },
    {
     "data": {
      "text/html": [
       "<pre style=\"white-space:pre;overflow-x:auto;line-height:normal;font-family:Menlo,'DejaVu Sans Mono',consolas,'Courier New',monospace\">\n",
       "</pre>\n"
      ],
      "text/plain": [
       "\n"
      ]
     },
     "metadata": {},
     "output_type": "display_data"
    },
    {
     "data": {
      "application/vnd.jupyter.widget-view+json": {
       "model_id": "0b9746396474450488d8be1191b40cbd",
       "version_major": 2,
       "version_minor": 0
      },
      "text/plain": [
       "Output()"
      ]
     },
     "metadata": {},
     "output_type": "display_data"
    },
    {
     "data": {
      "text/html": [
       "<pre style=\"white-space:pre;overflow-x:auto;line-height:normal;font-family:Menlo,'DejaVu Sans Mono',consolas,'Courier New',monospace\"></pre>\n"
      ],
      "text/plain": []
     },
     "metadata": {},
     "output_type": "display_data"
    },
    {
     "data": {
      "text/html": [
       "<pre style=\"white-space:pre;overflow-x:auto;line-height:normal;font-family:Menlo,'DejaVu Sans Mono',consolas,'Courier New',monospace\">\n",
       "</pre>\n"
      ],
      "text/plain": [
       "\n"
      ]
     },
     "metadata": {},
     "output_type": "display_data"
    },
    {
     "name": "stdout",
     "output_type": "stream",
     "text": [
      "\u001b[0;37m[INFO    ] Working on samples: ['TTTo2L2Nu_2018', 'TTToSemiLeptonic_2018', 'DATA_SingleMuon_2018_EraA', 'DATA_SingleMuon_2018_EraB', 'DATA_SingleMuon_2018_EraC', 'DATA_SingleMuon_2018_EraD']\u001b[0m\n"
     ]
    },
    {
     "data": {
      "application/vnd.jupyter.widget-view+json": {
       "model_id": "07a03b9932584622b430f5a95fb4ed92",
       "version_major": 2,
       "version_minor": 0
      },
      "text/plain": [
       "Output()"
      ]
     },
     "metadata": {},
     "output_type": "display_data"
    },
    {
     "data": {
      "text/html": [
       "<pre style=\"white-space:pre;overflow-x:auto;line-height:normal;font-family:Menlo,'DejaVu Sans Mono',consolas,'Courier New',monospace\"></pre>\n"
      ],
      "text/plain": []
     },
     "metadata": {},
     "output_type": "display_data"
    },
    {
     "data": {
      "text/html": [
       "<pre style=\"white-space:pre;overflow-x:auto;line-height:normal;font-family:Menlo,'DejaVu Sans Mono',consolas,'Courier New',monospace\">\n",
       "</pre>\n"
      ],
      "text/plain": [
       "\n"
      ]
     },
     "metadata": {},
     "output_type": "display_data"
    },
    {
     "name": "stdout",
     "output_type": "stream",
     "text": [
      "Saving output to output/output_all.coffea\n"
     ]
    }
   ],
   "source": [
    "runner.run(\n",
    "    cfg.filesets,\n",
    "    cfg.processor_instance,\n",
    "    full=True,\n",
    ")"
   ]
  },
  {
   "cell_type": "code",
   "execution_count": 10,
   "id": "657b0a01-6723-481c-8e7c-37c1fa4b847b",
   "metadata": {},
   "outputs": [
    {
     "data": {
      "text/plain": [
       "['parameters_dump.yaml',\n",
       " 'configurator.pkl',\n",
       " 'output_all.coffea',\n",
       " 'config.json']"
      ]
     },
     "execution_count": 10,
     "metadata": {},
     "output_type": "execute_result"
    }
   ],
   "source": [
    "os.listdir(\"output\")"
   ]
  },
  {
   "cell_type": "code",
   "execution_count": 8,
   "id": "63886633-4e34-4cb5-a3f1-95ce5cdffaf1",
   "metadata": {},
   "outputs": [
    {
     "data": {
      "text/plain": [
       "dict_keys(['sum_genweights', 'sumw', 'cutflow', 'variables', 'columns', 'processing_metadata', 'datasets_metadata'])"
      ]
     },
     "execution_count": 8,
     "metadata": {},
     "output_type": "execute_result"
    }
   ],
   "source": [
    "from coffea.util import load\n",
    "o = load(\"output/output_all.coffea\")\n",
    "o.keys()"
   ]
  },
  {
   "cell_type": "markdown",
   "id": "ebff8bfd-a70d-4c8f-81f2-41d524c5a787",
   "metadata": {},
   "source": [
    "## Fetch the dataset from DAS and rucio"
   ]
  },
  {
   "cell_type": "code",
   "execution_count": null,
   "id": "9178d55b-51cd-4daa-ad5d-6c42abbc0ed5",
   "metadata": {},
   "outputs": [],
   "source": [
    "build_datasets(\n",
    "    \"datasets/datasets_definitions.json\",\n",
    "    overwrite=True,\n",
    "    #local_prefix=self.local_prefix,\n",
    "    #whitelist_sites=self.whitelist_sites,\n",
    "    #blacklist_sites=self.blacklist_sites,\n",
    "    #regex_sites=self.regex_sites,\n",
    "    parallelize=4,\n",
    ")"
   ]
  },
  {
   "cell_type": "code",
   "execution_count": null,
   "id": "8fe77a85-da16-4738-8ee6-5429b35823e3",
   "metadata": {},
   "outputs": [],
   "source": []
  }
 ],
 "metadata": {
  "kernelspec": {
   "display_name": "Python 3 (ipykernel)",
   "language": "python",
   "name": "python3"
  },
  "language_info": {
   "codemirror_mode": {
    "name": "ipython",
    "version": 3
   },
   "file_extension": ".py",
   "mimetype": "text/x-python",
   "name": "python",
   "nbconvert_exporter": "python",
   "pygments_lexer": "ipython3",
   "version": "3.9.18"
  }
 },
 "nbformat": 4,
 "nbformat_minor": 5
}
